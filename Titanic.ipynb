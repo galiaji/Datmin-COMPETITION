{
 "cells": [
  {
   "cell_type": "code",
   "execution_count": 1,
   "id": "d7f2d8cb",
   "metadata": {
    "_cell_guid": "b1076dfc-b9ad-4769-8c92-a6c4dae69d19",
    "_uuid": "8f2839f25d086af736a60e9eeb907d3b93b6e0e5",
    "execution": {
     "iopub.execute_input": "2023-11-27T08:45:32.264830Z",
     "iopub.status.busy": "2023-11-27T08:45:32.264439Z",
     "iopub.status.idle": "2023-11-27T08:45:50.672629Z",
     "shell.execute_reply": "2023-11-27T08:45:50.671470Z"
    },
    "papermill": {
     "duration": 18.421287,
     "end_time": "2023-11-27T08:45:50.675592",
     "exception": false,
     "start_time": "2023-11-27T08:45:32.254305",
     "status": "completed"
    },
    "tags": []
   },
   "outputs": [
    {
     "name": "stdout",
     "output_type": "stream",
     "text": [
      "Collecting pydotplus\r\n",
      "  Downloading pydotplus-2.0.2.tar.gz (278 kB)\r\n",
      "\u001b[2K     \u001b[90m━━━━━━━━━━━━━━━━━━━━━━━━━━━━━━━━━━━━━━━\u001b[0m \u001b[32m278.7/278.7 kB\u001b[0m \u001b[31m5.6 MB/s\u001b[0m eta \u001b[36m0:00:00\u001b[0m\r\n",
      "\u001b[?25h  Preparing metadata (setup.py) ... \u001b[?25l-\b \bdone\r\n",
      "\u001b[?25hRequirement already satisfied: pyparsing>=2.0.1 in /opt/conda/lib/python3.10/site-packages (from pydotplus) (3.0.9)\r\n",
      "Building wheels for collected packages: pydotplus\r\n",
      "  Building wheel for pydotplus (setup.py) ... \u001b[?25l-\b \b\\\b \bdone\r\n",
      "\u001b[?25h  Created wheel for pydotplus: filename=pydotplus-2.0.2-py3-none-any.whl size=24552 sha256=6d36038ca64d94cf45f475e9c94ca6305cb502b95cca63a723b579a7f1ab5d17\r\n",
      "  Stored in directory: /root/.cache/pip/wheels/69/b2/67/08f0eef649af92df772c09f451558298e07fab1bc7cdf33db0\r\n",
      "Successfully built pydotplus\r\n",
      "Installing collected packages: pydotplus\r\n",
      "Successfully installed pydotplus-2.0.2\r\n"
     ]
    }
   ],
   "source": [
    "import numpy as np\n",
    "import pandas as pd\n",
    "import matplotlib.pyplot as plt\n",
    "import seaborn as sns\n",
    "import warnings\n",
    "import scipy\n",
    "from sklearn.model_selection import train_test_split\n",
    "from sklearn.preprocessing import MinMaxScaler\n",
    "from sklearn import tree\n",
    "warnings.filterwarnings('ignore')\n",
    "import graphviz\n",
    "from IPython.display import Image  \n",
    "from subprocess import call\n",
    "from sklearn.metrics import accuracy_score\n",
    "!pip install pydotplus\n",
    "import pydotplus\n",
    "from six import StringIO"
   ]
  },
  {
   "cell_type": "code",
   "execution_count": 2,
   "id": "aa186e3b",
   "metadata": {
    "execution": {
     "iopub.execute_input": "2023-11-27T08:45:50.691725Z",
     "iopub.status.busy": "2023-11-27T08:45:50.690962Z",
     "iopub.status.idle": "2023-11-27T08:45:50.714710Z",
     "shell.execute_reply": "2023-11-27T08:45:50.713577Z"
    },
    "papermill": {
     "duration": 0.03482,
     "end_time": "2023-11-27T08:45:50.717549",
     "exception": false,
     "start_time": "2023-11-27T08:45:50.682729",
     "status": "completed"
    },
    "tags": []
   },
   "outputs": [],
   "source": [
    "test_path = '/kaggle/input/2023-tragedi-titanic/test_new.csv'\n",
    "test = pd.read_csv(test_path)  "
   ]
  },
  {
   "cell_type": "code",
   "execution_count": 3,
   "id": "042b7edc",
   "metadata": {
    "execution": {
     "iopub.execute_input": "2023-11-27T08:45:50.733202Z",
     "iopub.status.busy": "2023-11-27T08:45:50.732767Z",
     "iopub.status.idle": "2023-11-27T08:45:50.746727Z",
     "shell.execute_reply": "2023-11-27T08:45:50.745304Z"
    },
    "papermill": {
     "duration": 0.024978,
     "end_time": "2023-11-27T08:45:50.749237",
     "exception": false,
     "start_time": "2023-11-27T08:45:50.724259",
     "status": "completed"
    },
    "tags": []
   },
   "outputs": [],
   "source": [
    "train_path = '/kaggle/input/2023-tragedi-titanic/train.csv'\n",
    "train = pd.read_csv(train_path)"
   ]
  },
  {
   "cell_type": "code",
   "execution_count": 4,
   "id": "a00ce691",
   "metadata": {
    "execution": {
     "iopub.execute_input": "2023-11-27T08:45:50.764393Z",
     "iopub.status.busy": "2023-11-27T08:45:50.763970Z",
     "iopub.status.idle": "2023-11-27T08:45:50.791957Z",
     "shell.execute_reply": "2023-11-27T08:45:50.790760Z"
    },
    "papermill": {
     "duration": 0.038393,
     "end_time": "2023-11-27T08:45:50.794325",
     "exception": false,
     "start_time": "2023-11-27T08:45:50.755932",
     "status": "completed"
    },
    "tags": []
   },
   "outputs": [
    {
     "data": {
      "text/html": [
       "<div>\n",
       "<style scoped>\n",
       "    .dataframe tbody tr th:only-of-type {\n",
       "        vertical-align: middle;\n",
       "    }\n",
       "\n",
       "    .dataframe tbody tr th {\n",
       "        vertical-align: top;\n",
       "    }\n",
       "\n",
       "    .dataframe thead th {\n",
       "        text-align: right;\n",
       "    }\n",
       "</style>\n",
       "<table border=\"1\" class=\"dataframe\">\n",
       "  <thead>\n",
       "    <tr style=\"text-align: right;\">\n",
       "      <th></th>\n",
       "      <th>ID</th>\n",
       "      <th>pclass</th>\n",
       "      <th>survived</th>\n",
       "      <th>sex</th>\n",
       "      <th>age</th>\n",
       "      <th>sibsp</th>\n",
       "      <th>parch</th>\n",
       "      <th>fare</th>\n",
       "      <th>cabin</th>\n",
       "      <th>embarked</th>\n",
       "      <th>boat</th>\n",
       "      <th>body</th>\n",
       "      <th>home.dest</th>\n",
       "    </tr>\n",
       "  </thead>\n",
       "  <tbody>\n",
       "    <tr>\n",
       "      <th>0</th>\n",
       "      <td>401</td>\n",
       "      <td>3</td>\n",
       "      <td>0</td>\n",
       "      <td>male</td>\n",
       "      <td>NaN</td>\n",
       "      <td>0</td>\n",
       "      <td>0</td>\n",
       "      <td>8.0500</td>\n",
       "      <td>NaN</td>\n",
       "      <td>S</td>\n",
       "      <td>NaN</td>\n",
       "      <td>NaN</td>\n",
       "      <td>NaN</td>\n",
       "    </tr>\n",
       "    <tr>\n",
       "      <th>1</th>\n",
       "      <td>402</td>\n",
       "      <td>3</td>\n",
       "      <td>1</td>\n",
       "      <td>female</td>\n",
       "      <td>22.0</td>\n",
       "      <td>1</td>\n",
       "      <td>0</td>\n",
       "      <td>13.9000</td>\n",
       "      <td>NaN</td>\n",
       "      <td>S</td>\n",
       "      <td>16</td>\n",
       "      <td>NaN</td>\n",
       "      <td>West Haven, CT</td>\n",
       "    </tr>\n",
       "    <tr>\n",
       "      <th>2</th>\n",
       "      <td>403</td>\n",
       "      <td>3</td>\n",
       "      <td>0</td>\n",
       "      <td>male</td>\n",
       "      <td>NaN</td>\n",
       "      <td>0</td>\n",
       "      <td>0</td>\n",
       "      <td>7.3125</td>\n",
       "      <td>NaN</td>\n",
       "      <td>S</td>\n",
       "      <td>NaN</td>\n",
       "      <td>NaN</td>\n",
       "      <td>NaN</td>\n",
       "    </tr>\n",
       "    <tr>\n",
       "      <th>3</th>\n",
       "      <td>404</td>\n",
       "      <td>3</td>\n",
       "      <td>0</td>\n",
       "      <td>male</td>\n",
       "      <td>28.0</td>\n",
       "      <td>2</td>\n",
       "      <td>0</td>\n",
       "      <td>7.9250</td>\n",
       "      <td>NaN</td>\n",
       "      <td>S</td>\n",
       "      <td>NaN</td>\n",
       "      <td>NaN</td>\n",
       "      <td>Ruotsinphytaa, Finland New York, NY</td>\n",
       "    </tr>\n",
       "    <tr>\n",
       "      <th>4</th>\n",
       "      <td>405</td>\n",
       "      <td>3</td>\n",
       "      <td>0</td>\n",
       "      <td>male</td>\n",
       "      <td>NaN</td>\n",
       "      <td>0</td>\n",
       "      <td>0</td>\n",
       "      <td>6.8583</td>\n",
       "      <td>NaN</td>\n",
       "      <td>Q</td>\n",
       "      <td>NaN</td>\n",
       "      <td>NaN</td>\n",
       "      <td>NaN</td>\n",
       "    </tr>\n",
       "  </tbody>\n",
       "</table>\n",
       "</div>"
      ],
      "text/plain": [
       "    ID  pclass  survived     sex   age  sibsp  parch     fare cabin embarked  \\\n",
       "0  401       3         0    male   NaN      0      0   8.0500   NaN        S   \n",
       "1  402       3         1  female  22.0      1      0  13.9000   NaN        S   \n",
       "2  403       3         0    male   NaN      0      0   7.3125   NaN        S   \n",
       "3  404       3         0    male  28.0      2      0   7.9250   NaN        S   \n",
       "4  405       3         0    male   NaN      0      0   6.8583   NaN        Q   \n",
       "\n",
       "  boat  body                            home.dest  \n",
       "0  NaN   NaN                                  NaN  \n",
       "1   16   NaN                       West Haven, CT  \n",
       "2  NaN   NaN                                  NaN  \n",
       "3  NaN   NaN  Ruotsinphytaa, Finland New York, NY  \n",
       "4  NaN   NaN                                  NaN  "
      ]
     },
     "execution_count": 4,
     "metadata": {},
     "output_type": "execute_result"
    }
   ],
   "source": [
    "train.head()\n"
   ]
  },
  {
   "cell_type": "code",
   "execution_count": 5,
   "id": "f80b0e85",
   "metadata": {
    "execution": {
     "iopub.execute_input": "2023-11-27T08:45:50.810036Z",
     "iopub.status.busy": "2023-11-27T08:45:50.809594Z",
     "iopub.status.idle": "2023-11-27T08:45:50.828893Z",
     "shell.execute_reply": "2023-11-27T08:45:50.827677Z"
    },
    "papermill": {
     "duration": 0.02983,
     "end_time": "2023-11-27T08:45:50.831180",
     "exception": false,
     "start_time": "2023-11-27T08:45:50.801350",
     "status": "completed"
    },
    "tags": []
   },
   "outputs": [
    {
     "data": {
      "text/html": [
       "<div>\n",
       "<style scoped>\n",
       "    .dataframe tbody tr th:only-of-type {\n",
       "        vertical-align: middle;\n",
       "    }\n",
       "\n",
       "    .dataframe tbody tr th {\n",
       "        vertical-align: top;\n",
       "    }\n",
       "\n",
       "    .dataframe thead th {\n",
       "        text-align: right;\n",
       "    }\n",
       "</style>\n",
       "<table border=\"1\" class=\"dataframe\">\n",
       "  <thead>\n",
       "    <tr style=\"text-align: right;\">\n",
       "      <th></th>\n",
       "      <th>ID</th>\n",
       "      <th>pclass</th>\n",
       "      <th>sex</th>\n",
       "      <th>age</th>\n",
       "      <th>sibsp</th>\n",
       "      <th>parch</th>\n",
       "      <th>fare</th>\n",
       "      <th>cabin</th>\n",
       "      <th>embarked</th>\n",
       "      <th>boat</th>\n",
       "      <th>body</th>\n",
       "      <th>home.dest</th>\n",
       "    </tr>\n",
       "  </thead>\n",
       "  <tbody>\n",
       "    <tr>\n",
       "      <th>0</th>\n",
       "      <td>1.0</td>\n",
       "      <td>1.0</td>\n",
       "      <td>male</td>\n",
       "      <td>41.0</td>\n",
       "      <td>1.0</td>\n",
       "      <td>0.0</td>\n",
       "      <td>518625.00</td>\n",
       "      <td>D21</td>\n",
       "      <td>S</td>\n",
       "      <td>NaN</td>\n",
       "      <td>NaN</td>\n",
       "      <td>Southington / Noank, CT</td>\n",
       "    </tr>\n",
       "    <tr>\n",
       "      <th>1</th>\n",
       "      <td>2.0</td>\n",
       "      <td>2.0</td>\n",
       "      <td>female</td>\n",
       "      <td>45.0</td>\n",
       "      <td>0.0</td>\n",
       "      <td>2.0</td>\n",
       "      <td>30.00</td>\n",
       "      <td>NaN</td>\n",
       "      <td>S</td>\n",
       "      <td>12</td>\n",
       "      <td>NaN</td>\n",
       "      <td>London</td>\n",
       "    </tr>\n",
       "    <tr>\n",
       "      <th>2</th>\n",
       "      <td>3.0</td>\n",
       "      <td>3.0</td>\n",
       "      <td>male</td>\n",
       "      <td>34.0</td>\n",
       "      <td>0.0</td>\n",
       "      <td>0.0</td>\n",
       "      <td>8.05</td>\n",
       "      <td>NaN</td>\n",
       "      <td>S</td>\n",
       "      <td>NaN</td>\n",
       "      <td>NaN</td>\n",
       "      <td>NaN</td>\n",
       "    </tr>\n",
       "    <tr>\n",
       "      <th>3</th>\n",
       "      <td>4.0</td>\n",
       "      <td>1.0</td>\n",
       "      <td>male</td>\n",
       "      <td>56.0</td>\n",
       "      <td>0.0</td>\n",
       "      <td>0.0</td>\n",
       "      <td>35.50</td>\n",
       "      <td>A26</td>\n",
       "      <td>C</td>\n",
       "      <td>3</td>\n",
       "      <td>NaN</td>\n",
       "      <td>Basel, Switzerland</td>\n",
       "    </tr>\n",
       "    <tr>\n",
       "      <th>4</th>\n",
       "      <td>5.0</td>\n",
       "      <td>1.0</td>\n",
       "      <td>female</td>\n",
       "      <td>55.0</td>\n",
       "      <td>0.0</td>\n",
       "      <td>0.0</td>\n",
       "      <td>277208.00</td>\n",
       "      <td>NaN</td>\n",
       "      <td>C</td>\n",
       "      <td>6</td>\n",
       "      <td>NaN</td>\n",
       "      <td>Stockholm, Sweden</td>\n",
       "    </tr>\n",
       "  </tbody>\n",
       "</table>\n",
       "</div>"
      ],
      "text/plain": [
       "    ID  pclass     sex   age  sibsp  parch       fare cabin embarked boat  \\\n",
       "0  1.0     1.0    male  41.0    1.0    0.0  518625.00   D21        S  NaN   \n",
       "1  2.0     2.0  female  45.0    0.0    2.0      30.00   NaN        S   12   \n",
       "2  3.0     3.0    male  34.0    0.0    0.0       8.05   NaN        S  NaN   \n",
       "3  4.0     1.0    male  56.0    0.0    0.0      35.50   A26        C    3   \n",
       "4  5.0     1.0  female  55.0    0.0    0.0  277208.00   NaN        C    6   \n",
       "\n",
       "   body                home.dest  \n",
       "0   NaN  Southington / Noank, CT  \n",
       "1   NaN                   London  \n",
       "2   NaN                      NaN  \n",
       "3   NaN       Basel, Switzerland  \n",
       "4   NaN        Stockholm, Sweden  "
      ]
     },
     "execution_count": 5,
     "metadata": {},
     "output_type": "execute_result"
    }
   ],
   "source": [
    "test.head()"
   ]
  },
  {
   "cell_type": "code",
   "execution_count": 6,
   "id": "b41d571b",
   "metadata": {
    "execution": {
     "iopub.execute_input": "2023-11-27T08:45:50.848231Z",
     "iopub.status.busy": "2023-11-27T08:45:50.847562Z",
     "iopub.status.idle": "2023-11-27T08:45:50.861035Z",
     "shell.execute_reply": "2023-11-27T08:45:50.859798Z"
    },
    "papermill": {
     "duration": 0.024863,
     "end_time": "2023-11-27T08:45:50.863526",
     "exception": false,
     "start_time": "2023-11-27T08:45:50.838663",
     "status": "completed"
    },
    "tags": []
   },
   "outputs": [
    {
     "data": {
      "text/plain": [
       "ID             0\n",
       "pclass         0\n",
       "survived       0\n",
       "sex            0\n",
       "age          192\n",
       "sibsp          0\n",
       "parch          0\n",
       "fare           1\n",
       "cabin        699\n",
       "embarked       2\n",
       "boat         583\n",
       "body         820\n",
       "home.dest    393\n",
       "dtype: int64"
      ]
     },
     "execution_count": 6,
     "metadata": {},
     "output_type": "execute_result"
    }
   ],
   "source": [
    "train.isnull().sum()\n"
   ]
  },
  {
   "cell_type": "code",
   "execution_count": 7,
   "id": "27b9643f",
   "metadata": {
    "execution": {
     "iopub.execute_input": "2023-11-27T08:45:50.879696Z",
     "iopub.status.busy": "2023-11-27T08:45:50.879315Z",
     "iopub.status.idle": "2023-11-27T08:45:50.887946Z",
     "shell.execute_reply": "2023-11-27T08:45:50.886776Z"
    },
    "papermill": {
     "duration": 0.019423,
     "end_time": "2023-11-27T08:45:50.890306",
     "exception": false,
     "start_time": "2023-11-27T08:45:50.870883",
     "status": "completed"
    },
    "tags": []
   },
   "outputs": [
    {
     "data": {
      "text/plain": [
       "ID             0\n",
       "pclass         0\n",
       "sex            0\n",
       "age           68\n",
       "sibsp          0\n",
       "parch          0\n",
       "fare           0\n",
       "cabin        300\n",
       "embarked       0\n",
       "boat         251\n",
       "body         368\n",
       "home.dest    150\n",
       "dtype: int64"
      ]
     },
     "execution_count": 7,
     "metadata": {},
     "output_type": "execute_result"
    }
   ],
   "source": [
    "test.isnull().sum()"
   ]
  },
  {
   "cell_type": "code",
   "execution_count": 8,
   "id": "f14a5df0",
   "metadata": {
    "execution": {
     "iopub.execute_input": "2023-11-27T08:45:50.907617Z",
     "iopub.status.busy": "2023-11-27T08:45:50.907236Z",
     "iopub.status.idle": "2023-11-27T08:45:50.962860Z",
     "shell.execute_reply": "2023-11-27T08:45:50.961853Z"
    },
    "papermill": {
     "duration": 0.067518,
     "end_time": "2023-11-27T08:45:50.965263",
     "exception": false,
     "start_time": "2023-11-27T08:45:50.897745",
     "status": "completed"
    },
    "tags": []
   },
   "outputs": [
    {
     "data": {
      "text/html": [
       "<div>\n",
       "<style scoped>\n",
       "    .dataframe tbody tr th:only-of-type {\n",
       "        vertical-align: middle;\n",
       "    }\n",
       "\n",
       "    .dataframe tbody tr th {\n",
       "        vertical-align: top;\n",
       "    }\n",
       "\n",
       "    .dataframe thead th {\n",
       "        text-align: right;\n",
       "    }\n",
       "</style>\n",
       "<table border=\"1\" class=\"dataframe\">\n",
       "  <thead>\n",
       "    <tr style=\"text-align: right;\">\n",
       "      <th></th>\n",
       "      <th>ID</th>\n",
       "      <th>pclass</th>\n",
       "      <th>survived</th>\n",
       "      <th>sex</th>\n",
       "      <th>age</th>\n",
       "      <th>sibsp</th>\n",
       "      <th>parch</th>\n",
       "      <th>fare</th>\n",
       "      <th>cabin</th>\n",
       "      <th>embarked</th>\n",
       "      <th>boat</th>\n",
       "      <th>body</th>\n",
       "      <th>home.dest</th>\n",
       "      <th>age_rand</th>\n",
       "    </tr>\n",
       "  </thead>\n",
       "  <tbody>\n",
       "    <tr>\n",
       "      <th>0</th>\n",
       "      <td>401</td>\n",
       "      <td>3</td>\n",
       "      <td>0</td>\n",
       "      <td>male</td>\n",
       "      <td>40</td>\n",
       "      <td>0</td>\n",
       "      <td>0</td>\n",
       "      <td>8.0500</td>\n",
       "      <td>NaN</td>\n",
       "      <td>S</td>\n",
       "      <td>NaN</td>\n",
       "      <td>NaN</td>\n",
       "      <td>NaN</td>\n",
       "      <td>40.08335</td>\n",
       "    </tr>\n",
       "    <tr>\n",
       "      <th>1</th>\n",
       "      <td>402</td>\n",
       "      <td>3</td>\n",
       "      <td>1</td>\n",
       "      <td>female</td>\n",
       "      <td>22</td>\n",
       "      <td>1</td>\n",
       "      <td>0</td>\n",
       "      <td>13.9000</td>\n",
       "      <td>NaN</td>\n",
       "      <td>S</td>\n",
       "      <td>16</td>\n",
       "      <td>NaN</td>\n",
       "      <td>West Haven, CT</td>\n",
       "      <td>29.43891</td>\n",
       "    </tr>\n",
       "    <tr>\n",
       "      <th>2</th>\n",
       "      <td>403</td>\n",
       "      <td>3</td>\n",
       "      <td>0</td>\n",
       "      <td>male</td>\n",
       "      <td>19</td>\n",
       "      <td>0</td>\n",
       "      <td>0</td>\n",
       "      <td>7.3125</td>\n",
       "      <td>NaN</td>\n",
       "      <td>S</td>\n",
       "      <td>NaN</td>\n",
       "      <td>NaN</td>\n",
       "      <td>NaN</td>\n",
       "      <td>18.79447</td>\n",
       "    </tr>\n",
       "    <tr>\n",
       "      <th>3</th>\n",
       "      <td>404</td>\n",
       "      <td>3</td>\n",
       "      <td>0</td>\n",
       "      <td>male</td>\n",
       "      <td>28</td>\n",
       "      <td>2</td>\n",
       "      <td>0</td>\n",
       "      <td>7.9250</td>\n",
       "      <td>NaN</td>\n",
       "      <td>S</td>\n",
       "      <td>NaN</td>\n",
       "      <td>NaN</td>\n",
       "      <td>Ruotsinphytaa, Finland New York, NY</td>\n",
       "      <td>29.43891</td>\n",
       "    </tr>\n",
       "    <tr>\n",
       "      <th>4</th>\n",
       "      <td>405</td>\n",
       "      <td>3</td>\n",
       "      <td>0</td>\n",
       "      <td>male</td>\n",
       "      <td>45</td>\n",
       "      <td>0</td>\n",
       "      <td>0</td>\n",
       "      <td>6.8583</td>\n",
       "      <td>NaN</td>\n",
       "      <td>Q</td>\n",
       "      <td>NaN</td>\n",
       "      <td>NaN</td>\n",
       "      <td>NaN</td>\n",
       "      <td>45.40557</td>\n",
       "    </tr>\n",
       "  </tbody>\n",
       "</table>\n",
       "</div>"
      ],
      "text/plain": [
       "    ID  pclass  survived     sex  age  sibsp  parch     fare cabin embarked  \\\n",
       "0  401       3         0    male   40      0      0   8.0500   NaN        S   \n",
       "1  402       3         1  female   22      1      0  13.9000   NaN        S   \n",
       "2  403       3         0    male   19      0      0   7.3125   NaN        S   \n",
       "3  404       3         0    male   28      2      0   7.9250   NaN        S   \n",
       "4  405       3         0    male   45      0      0   6.8583   NaN        Q   \n",
       "\n",
       "  boat  body                            home.dest  age_rand  \n",
       "0  NaN   NaN                                  NaN  40.08335  \n",
       "1   16   NaN                       West Haven, CT  29.43891  \n",
       "2  NaN   NaN                                  NaN  18.79447  \n",
       "3  NaN   NaN  Ruotsinphytaa, Finland New York, NY  29.43891  \n",
       "4  NaN   NaN                                  NaN  45.40557  "
      ]
     },
     "execution_count": 8,
     "metadata": {},
     "output_type": "execute_result"
    }
   ],
   "source": [
    "# Fill null in Age Train\n",
    "x = train['age'].dropna()\n",
    "hist, bins = np.histogram(x, bins=15)\n",
    "\n",
    "bin_centers = 0.5 * (bins[:len(bins) - 1] + bins[1:])\n",
    "probabilities = hist/hist.sum()\n",
    "\n",
    "# dictionary with random numbers from existing age distribution\n",
    "train['age_rand'] = train['age'].apply(lambda v: np.random.choice(bin_centers, p=probabilities))\n",
    "age_null_list = train[train['age'].isnull()].index\n",
    "train.loc[age_null_list,'age'] = train.loc[age_null_list,'age_rand']\n",
    "\n",
    "train['age'] = train['age'].round().astype(int)\n",
    "\n",
    "train.head()"
   ]
  },
  {
   "cell_type": "code",
   "execution_count": 9,
   "id": "d9a150db",
   "metadata": {
    "execution": {
     "iopub.execute_input": "2023-11-27T08:45:50.983125Z",
     "iopub.status.busy": "2023-11-27T08:45:50.982656Z",
     "iopub.status.idle": "2023-11-27T08:45:50.990143Z",
     "shell.execute_reply": "2023-11-27T08:45:50.988414Z"
    },
    "papermill": {
     "duration": 0.019344,
     "end_time": "2023-11-27T08:45:50.992549",
     "exception": false,
     "start_time": "2023-11-27T08:45:50.973205",
     "status": "completed"
    },
    "tags": []
   },
   "outputs": [
    {
     "name": "stdout",
     "output_type": "stream",
     "text": [
      "float64\n"
     ]
    }
   ],
   "source": [
    "test['age'] = pd.to_numeric(test['age'], errors='coerce')\n",
    "print(test['age'].dtype)\n"
   ]
  },
  {
   "cell_type": "code",
   "execution_count": 10,
   "id": "2c27de98",
   "metadata": {
    "execution": {
     "iopub.execute_input": "2023-11-27T08:45:51.010595Z",
     "iopub.status.busy": "2023-11-27T08:45:51.010180Z",
     "iopub.status.idle": "2023-11-27T08:45:51.054890Z",
     "shell.execute_reply": "2023-11-27T08:45:51.053611Z"
    },
    "papermill": {
     "duration": 0.057148,
     "end_time": "2023-11-27T08:45:51.057283",
     "exception": false,
     "start_time": "2023-11-27T08:45:51.000135",
     "status": "completed"
    },
    "tags": []
   },
   "outputs": [
    {
     "name": "stdout",
     "output_type": "stream",
     "text": [
      "count    332.000000\n",
      "mean      29.980422\n",
      "std       13.594541\n",
      "min        1.000000\n",
      "25%       21.000000\n",
      "50%       28.000000\n",
      "75%       37.250000\n",
      "max       74.000000\n",
      "Name: age, dtype: float64\n"
     ]
    },
    {
     "data": {
      "text/html": [
       "<div>\n",
       "<style scoped>\n",
       "    .dataframe tbody tr th:only-of-type {\n",
       "        vertical-align: middle;\n",
       "    }\n",
       "\n",
       "    .dataframe tbody tr th {\n",
       "        vertical-align: top;\n",
       "    }\n",
       "\n",
       "    .dataframe thead th {\n",
       "        text-align: right;\n",
       "    }\n",
       "</style>\n",
       "<table border=\"1\" class=\"dataframe\">\n",
       "  <thead>\n",
       "    <tr style=\"text-align: right;\">\n",
       "      <th></th>\n",
       "      <th>ID</th>\n",
       "      <th>pclass</th>\n",
       "      <th>sex</th>\n",
       "      <th>age</th>\n",
       "      <th>sibsp</th>\n",
       "      <th>parch</th>\n",
       "      <th>fare</th>\n",
       "      <th>cabin</th>\n",
       "      <th>embarked</th>\n",
       "      <th>boat</th>\n",
       "      <th>body</th>\n",
       "      <th>home.dest</th>\n",
       "    </tr>\n",
       "  </thead>\n",
       "  <tbody>\n",
       "    <tr>\n",
       "      <th>0</th>\n",
       "      <td>1.0</td>\n",
       "      <td>1.0</td>\n",
       "      <td>male</td>\n",
       "      <td>41</td>\n",
       "      <td>1.0</td>\n",
       "      <td>0.0</td>\n",
       "      <td>518625.00</td>\n",
       "      <td>D21</td>\n",
       "      <td>S</td>\n",
       "      <td>NaN</td>\n",
       "      <td>NaN</td>\n",
       "      <td>Southington / Noank, CT</td>\n",
       "    </tr>\n",
       "    <tr>\n",
       "      <th>1</th>\n",
       "      <td>2.0</td>\n",
       "      <td>2.0</td>\n",
       "      <td>female</td>\n",
       "      <td>45</td>\n",
       "      <td>0.0</td>\n",
       "      <td>2.0</td>\n",
       "      <td>30.00</td>\n",
       "      <td>NaN</td>\n",
       "      <td>S</td>\n",
       "      <td>12</td>\n",
       "      <td>NaN</td>\n",
       "      <td>London</td>\n",
       "    </tr>\n",
       "    <tr>\n",
       "      <th>2</th>\n",
       "      <td>3.0</td>\n",
       "      <td>3.0</td>\n",
       "      <td>male</td>\n",
       "      <td>34</td>\n",
       "      <td>0.0</td>\n",
       "      <td>0.0</td>\n",
       "      <td>8.05</td>\n",
       "      <td>NaN</td>\n",
       "      <td>S</td>\n",
       "      <td>NaN</td>\n",
       "      <td>NaN</td>\n",
       "      <td>NaN</td>\n",
       "    </tr>\n",
       "    <tr>\n",
       "      <th>3</th>\n",
       "      <td>4.0</td>\n",
       "      <td>1.0</td>\n",
       "      <td>male</td>\n",
       "      <td>56</td>\n",
       "      <td>0.0</td>\n",
       "      <td>0.0</td>\n",
       "      <td>35.50</td>\n",
       "      <td>A26</td>\n",
       "      <td>C</td>\n",
       "      <td>3</td>\n",
       "      <td>NaN</td>\n",
       "      <td>Basel, Switzerland</td>\n",
       "    </tr>\n",
       "    <tr>\n",
       "      <th>4</th>\n",
       "      <td>5.0</td>\n",
       "      <td>1.0</td>\n",
       "      <td>female</td>\n",
       "      <td>55</td>\n",
       "      <td>0.0</td>\n",
       "      <td>0.0</td>\n",
       "      <td>277208.00</td>\n",
       "      <td>NaN</td>\n",
       "      <td>C</td>\n",
       "      <td>6</td>\n",
       "      <td>NaN</td>\n",
       "      <td>Stockholm, Sweden</td>\n",
       "    </tr>\n",
       "  </tbody>\n",
       "</table>\n",
       "</div>"
      ],
      "text/plain": [
       "    ID  pclass     sex  age  sibsp  parch       fare cabin embarked boat  \\\n",
       "0  1.0     1.0    male   41    1.0    0.0  518625.00   D21        S  NaN   \n",
       "1  2.0     2.0  female   45    0.0    2.0      30.00   NaN        S   12   \n",
       "2  3.0     3.0    male   34    0.0    0.0       8.05   NaN        S  NaN   \n",
       "3  4.0     1.0    male   56    0.0    0.0      35.50   A26        C    3   \n",
       "4  5.0     1.0  female   55    0.0    0.0  277208.00   NaN        C    6   \n",
       "\n",
       "   body                home.dest  \n",
       "0   NaN  Southington / Noank, CT  \n",
       "1   NaN                   London  \n",
       "2   NaN                      NaN  \n",
       "3   NaN       Basel, Switzerland  \n",
       "4   NaN        Stockholm, Sweden  "
      ]
     },
     "execution_count": 10,
     "metadata": {},
     "output_type": "execute_result"
    }
   ],
   "source": [
    "# Check the existing distribution of 'age' column\n",
    "print(test['age'].describe())\n",
    "\n",
    "# Fill null in Age Test\n",
    "x = test['age'].dropna()\n",
    "hist, bins = np.histogram(x, bins=15)\n",
    "\n",
    "# Adjust the bin centers calculation\n",
    "bin_centers = 0.5 * (bins[:-1] + bins[1:])\n",
    "probabilities = hist / hist.sum()\n",
    "\n",
    "# Generate random numbers from the existing age distribution\n",
    "random_values = np.random.choice(bin_centers, size=test['age'].isnull().sum(), p=probabilities)\n",
    "\n",
    "# Create a Series with random values and NaNs in the appropriate positions\n",
    "random_series = pd.Series(random_values, index=test.index[test['age'].isnull()])\n",
    "\n",
    "# Replace null values with random values based on the distribution\n",
    "test['age_rand'] = test['age'].combine_first(random_series)\n",
    "\n",
    "# Round and convert 'age' to integer\n",
    "test['age'] = test['age_rand'].round().astype(int)\n",
    "\n",
    "# Drop the temporary 'age_rand' column\n",
    "test.drop('age_rand', axis=1, inplace=True)\n",
    "\n",
    "# Display the updated DataFrame\n",
    "test.head()"
   ]
  },
  {
   "cell_type": "code",
   "execution_count": 11,
   "id": "9f99e385",
   "metadata": {
    "execution": {
     "iopub.execute_input": "2023-11-27T08:45:51.074920Z",
     "iopub.status.busy": "2023-11-27T08:45:51.074543Z",
     "iopub.status.idle": "2023-11-27T08:45:51.085240Z",
     "shell.execute_reply": "2023-11-27T08:45:51.084313Z"
    },
    "papermill": {
     "duration": 0.022258,
     "end_time": "2023-11-27T08:45:51.087430",
     "exception": false,
     "start_time": "2023-11-27T08:45:51.065172",
     "status": "completed"
    },
    "tags": []
   },
   "outputs": [
    {
     "name": "stdout",
     "output_type": "stream",
     "text": [
      "S\n"
     ]
    }
   ],
   "source": [
    "#fill null train embarked & fare\n",
    "mode_embarked = train['embarked'].mode()[0]\n",
    "mean_fare = train['fare'].mean()\n",
    "\n",
    "train['embarked'].fillna(value=mode_embarked, inplace=True)\n",
    "train['fare'].fillna(value=mean_fare, inplace=True)\n",
    "\n",
    "print(mode_embarked)"
   ]
  },
  {
   "cell_type": "code",
   "execution_count": 12,
   "id": "b3434ea1",
   "metadata": {
    "execution": {
     "iopub.execute_input": "2023-11-27T08:45:51.105523Z",
     "iopub.status.busy": "2023-11-27T08:45:51.105108Z",
     "iopub.status.idle": "2023-11-27T08:45:51.114768Z",
     "shell.execute_reply": "2023-11-27T08:45:51.113597Z"
    },
    "papermill": {
     "duration": 0.021686,
     "end_time": "2023-11-27T08:45:51.117233",
     "exception": false,
     "start_time": "2023-11-27T08:45:51.095547",
     "status": "completed"
    },
    "tags": []
   },
   "outputs": [
    {
     "data": {
      "text/plain": [
       "ID             0\n",
       "pclass         0\n",
       "sex            0\n",
       "age            0\n",
       "sibsp          0\n",
       "parch          0\n",
       "fare           0\n",
       "cabin        300\n",
       "embarked       0\n",
       "boat         251\n",
       "body         368\n",
       "home.dest    150\n",
       "dtype: int64"
      ]
     },
     "execution_count": 12,
     "metadata": {},
     "output_type": "execute_result"
    }
   ],
   "source": [
    "test.isnull().sum()"
   ]
  },
  {
   "cell_type": "code",
   "execution_count": 13,
   "id": "b4bcfbbc",
   "metadata": {
    "execution": {
     "iopub.execute_input": "2023-11-27T08:45:51.135697Z",
     "iopub.status.busy": "2023-11-27T08:45:51.135337Z",
     "iopub.status.idle": "2023-11-27T08:45:51.144310Z",
     "shell.execute_reply": "2023-11-27T08:45:51.143243Z"
    },
    "papermill": {
     "duration": 0.021078,
     "end_time": "2023-11-27T08:45:51.146690",
     "exception": false,
     "start_time": "2023-11-27T08:45:51.125612",
     "status": "completed"
    },
    "tags": []
   },
   "outputs": [
    {
     "data": {
      "text/plain": [
       "ID             0\n",
       "pclass         0\n",
       "survived       0\n",
       "sex            0\n",
       "age            0\n",
       "sibsp          0\n",
       "parch          0\n",
       "fare           0\n",
       "cabin        699\n",
       "embarked       0\n",
       "boat         583\n",
       "body         820\n",
       "home.dest    393\n",
       "age_rand       0\n",
       "dtype: int64"
      ]
     },
     "execution_count": 13,
     "metadata": {},
     "output_type": "execute_result"
    }
   ],
   "source": [
    "train.isnull().sum()"
   ]
  },
  {
   "cell_type": "code",
   "execution_count": 14,
   "id": "51195252",
   "metadata": {
    "execution": {
     "iopub.execute_input": "2023-11-27T08:45:51.165534Z",
     "iopub.status.busy": "2023-11-27T08:45:51.165105Z",
     "iopub.status.idle": "2023-11-27T08:45:51.173646Z",
     "shell.execute_reply": "2023-11-27T08:45:51.172395Z"
    },
    "papermill": {
     "duration": 0.020912,
     "end_time": "2023-11-27T08:45:51.176062",
     "exception": false,
     "start_time": "2023-11-27T08:45:51.155150",
     "status": "completed"
    },
    "tags": []
   },
   "outputs": [],
   "source": [
    "# Gender\n",
    "genders = {'male': 1, 'female': 0}\n",
    "train['sex'] = train['sex'].apply(lambda s: genders.get(s))\n",
    "test['sex'] = test['sex'].apply(lambda s: genders.get(s))"
   ]
  },
  {
   "cell_type": "code",
   "execution_count": 15,
   "id": "4dec699a",
   "metadata": {
    "execution": {
     "iopub.execute_input": "2023-11-27T08:45:51.194657Z",
     "iopub.status.busy": "2023-11-27T08:45:51.194248Z",
     "iopub.status.idle": "2023-11-27T08:45:51.202589Z",
     "shell.execute_reply": "2023-11-27T08:45:51.201502Z"
    },
    "papermill": {
     "duration": 0.020091,
     "end_time": "2023-11-27T08:45:51.204657",
     "exception": false,
     "start_time": "2023-11-27T08:45:51.184566",
     "status": "completed"
    },
    "tags": []
   },
   "outputs": [],
   "source": [
    "# Embarkment\n",
    "embarkments = {'U': 0, 'S': 1, 'C': 2, 'Q': 3}\n",
    "train['embarked'] = train['embarked'].apply(lambda e: embarkments.get(e))\n",
    "test['embarked'] = test['embarked'].apply(lambda e: embarkments.get(e))"
   ]
  },
  {
   "cell_type": "code",
   "execution_count": 16,
   "id": "262a2edf",
   "metadata": {
    "execution": {
     "iopub.execute_input": "2023-11-27T08:45:51.223491Z",
     "iopub.status.busy": "2023-11-27T08:45:51.223126Z",
     "iopub.status.idle": "2023-11-27T08:45:51.257234Z",
     "shell.execute_reply": "2023-11-27T08:45:51.256029Z"
    },
    "papermill": {
     "duration": 0.046444,
     "end_time": "2023-11-27T08:45:51.259666",
     "exception": false,
     "start_time": "2023-11-27T08:45:51.213222",
     "status": "completed"
    },
    "tags": []
   },
   "outputs": [
    {
     "data": {
      "text/html": [
       "<div>\n",
       "<style scoped>\n",
       "    .dataframe tbody tr th:only-of-type {\n",
       "        vertical-align: middle;\n",
       "    }\n",
       "\n",
       "    .dataframe tbody tr th {\n",
       "        vertical-align: top;\n",
       "    }\n",
       "\n",
       "    .dataframe thead th {\n",
       "        text-align: right;\n",
       "    }\n",
       "</style>\n",
       "<table border=\"1\" class=\"dataframe\">\n",
       "  <thead>\n",
       "    <tr style=\"text-align: right;\">\n",
       "      <th></th>\n",
       "      <th>survived</th>\n",
       "      <th>pclass</th>\n",
       "      <th>sibsp</th>\n",
       "      <th>parch</th>\n",
       "      <th>embarked</th>\n",
       "      <th>fare</th>\n",
       "      <th>age</th>\n",
       "      <th>sex</th>\n",
       "    </tr>\n",
       "  </thead>\n",
       "  <tbody>\n",
       "    <tr>\n",
       "      <th>count</th>\n",
       "      <td>909.000000</td>\n",
       "      <td>909.000000</td>\n",
       "      <td>909.000000</td>\n",
       "      <td>909.000000</td>\n",
       "      <td>909.000000</td>\n",
       "      <td>909.000000</td>\n",
       "      <td>909.000000</td>\n",
       "      <td>909.000000</td>\n",
       "    </tr>\n",
       "    <tr>\n",
       "      <th>mean</th>\n",
       "      <td>0.376238</td>\n",
       "      <td>2.292629</td>\n",
       "      <td>0.488449</td>\n",
       "      <td>0.353135</td>\n",
       "      <td>1.409241</td>\n",
       "      <td>33.040335</td>\n",
       "      <td>30.187019</td>\n",
       "      <td>0.655666</td>\n",
       "    </tr>\n",
       "    <tr>\n",
       "      <th>std</th>\n",
       "      <td>0.484707</td>\n",
       "      <td>0.839656</td>\n",
       "      <td>1.089158</td>\n",
       "      <td>0.780858</td>\n",
       "      <td>0.660198</td>\n",
       "      <td>53.234366</td>\n",
       "      <td>14.641991</td>\n",
       "      <td>0.475412</td>\n",
       "    </tr>\n",
       "    <tr>\n",
       "      <th>min</th>\n",
       "      <td>0.000000</td>\n",
       "      <td>1.000000</td>\n",
       "      <td>0.000000</td>\n",
       "      <td>0.000000</td>\n",
       "      <td>1.000000</td>\n",
       "      <td>0.000000</td>\n",
       "      <td>0.000000</td>\n",
       "      <td>0.000000</td>\n",
       "    </tr>\n",
       "    <tr>\n",
       "      <th>25%</th>\n",
       "      <td>0.000000</td>\n",
       "      <td>2.000000</td>\n",
       "      <td>0.000000</td>\n",
       "      <td>0.000000</td>\n",
       "      <td>1.000000</td>\n",
       "      <td>7.895800</td>\n",
       "      <td>21.000000</td>\n",
       "      <td>0.000000</td>\n",
       "    </tr>\n",
       "    <tr>\n",
       "      <th>50%</th>\n",
       "      <td>0.000000</td>\n",
       "      <td>3.000000</td>\n",
       "      <td>0.000000</td>\n",
       "      <td>0.000000</td>\n",
       "      <td>1.000000</td>\n",
       "      <td>14.400000</td>\n",
       "      <td>29.000000</td>\n",
       "      <td>1.000000</td>\n",
       "    </tr>\n",
       "    <tr>\n",
       "      <th>75%</th>\n",
       "      <td>1.000000</td>\n",
       "      <td>3.000000</td>\n",
       "      <td>1.000000</td>\n",
       "      <td>0.000000</td>\n",
       "      <td>2.000000</td>\n",
       "      <td>31.000000</td>\n",
       "      <td>40.000000</td>\n",
       "      <td>1.000000</td>\n",
       "    </tr>\n",
       "    <tr>\n",
       "      <th>max</th>\n",
       "      <td>1.000000</td>\n",
       "      <td>3.000000</td>\n",
       "      <td>8.000000</td>\n",
       "      <td>6.000000</td>\n",
       "      <td>3.000000</td>\n",
       "      <td>512.329200</td>\n",
       "      <td>80.000000</td>\n",
       "      <td>1.000000</td>\n",
       "    </tr>\n",
       "  </tbody>\n",
       "</table>\n",
       "</div>"
      ],
      "text/plain": [
       "         survived      pclass       sibsp       parch    embarked        fare  \\\n",
       "count  909.000000  909.000000  909.000000  909.000000  909.000000  909.000000   \n",
       "mean     0.376238    2.292629    0.488449    0.353135    1.409241   33.040335   \n",
       "std      0.484707    0.839656    1.089158    0.780858    0.660198   53.234366   \n",
       "min      0.000000    1.000000    0.000000    0.000000    1.000000    0.000000   \n",
       "25%      0.000000    2.000000    0.000000    0.000000    1.000000    7.895800   \n",
       "50%      0.000000    3.000000    0.000000    0.000000    1.000000   14.400000   \n",
       "75%      1.000000    3.000000    1.000000    0.000000    2.000000   31.000000   \n",
       "max      1.000000    3.000000    8.000000    6.000000    3.000000  512.329200   \n",
       "\n",
       "              age         sex  \n",
       "count  909.000000  909.000000  \n",
       "mean    30.187019    0.655666  \n",
       "std     14.641991    0.475412  \n",
       "min      0.000000    0.000000  \n",
       "25%     21.000000    0.000000  \n",
       "50%     29.000000    1.000000  \n",
       "75%     40.000000    1.000000  \n",
       "max     80.000000    1.000000  "
      ]
     },
     "execution_count": 16,
     "metadata": {},
     "output_type": "execute_result"
    }
   ],
   "source": [
    "train = train.loc[:,['survived', 'pclass', 'sibsp', 'parch', 'embarked', 'fare', 'age', 'sex']]\n",
    "train.describe()"
   ]
  },
  {
   "cell_type": "code",
   "execution_count": 17,
   "id": "1f35a4c5",
   "metadata": {
    "execution": {
     "iopub.execute_input": "2023-11-27T08:45:51.279521Z",
     "iopub.status.busy": "2023-11-27T08:45:51.279080Z",
     "iopub.status.idle": "2023-11-27T08:45:51.287513Z",
     "shell.execute_reply": "2023-11-27T08:45:51.286441Z"
    },
    "papermill": {
     "duration": 0.021683,
     "end_time": "2023-11-27T08:45:51.290036",
     "exception": false,
     "start_time": "2023-11-27T08:45:51.268353",
     "status": "completed"
    },
    "tags": []
   },
   "outputs": [
    {
     "data": {
      "text/plain": [
       "0      0\n",
       "1      1\n",
       "2      0\n",
       "3      0\n",
       "4      0\n",
       "      ..\n",
       "904    0\n",
       "905    0\n",
       "906    1\n",
       "907    0\n",
       "908    0\n",
       "Name: survived, Length: 909, dtype: int64"
      ]
     },
     "execution_count": 17,
     "metadata": {},
     "output_type": "execute_result"
    }
   ],
   "source": [
    "train['survived']"
   ]
  },
  {
   "cell_type": "code",
   "execution_count": 18,
   "id": "d83c22f7",
   "metadata": {
    "execution": {
     "iopub.execute_input": "2023-11-27T08:45:51.309591Z",
     "iopub.status.busy": "2023-11-27T08:45:51.309209Z",
     "iopub.status.idle": "2023-11-27T08:45:51.328082Z",
     "shell.execute_reply": "2023-11-27T08:45:51.326724Z"
    },
    "papermill": {
     "duration": 0.03172,
     "end_time": "2023-11-27T08:45:51.330574",
     "exception": false,
     "start_time": "2023-11-27T08:45:51.298854",
     "status": "completed"
    },
    "tags": []
   },
   "outputs": [
    {
     "name": "stdout",
     "output_type": "stream",
     "text": [
      "Train 'fare' column dtype: float64\n",
      "Test 'fare' column dtype: float64\n"
     ]
    }
   ],
   "source": [
    "print(\"Train 'fare' column dtype:\", train['fare'].dtype)\n",
    "print(\"Test 'fare' column dtype:\", test['fare'].dtype)\n",
    "\n",
    "\n",
    "# Clean the 'fare' column in both train and test DataFrames\n",
    "#train['fare'] = train['fare'].str.replace(',', '.').astype(float)\n",
    "#test['fare'] = test['fare'].str.replace(',', '.').astype(float)\n",
    "# Clean the 'fare' column by removing non-numeric characters\n",
    "train['fare'] = train['fare'].replace('[^\\d.]', '', regex=True).astype(float)\n",
    "test['fare'] = test['fare'].replace('[^\\d.]', '', regex=True).astype(float)\n",
    "\n",
    "\n",
    "# Initialize MinMaxScaler\n",
    "scaler = MinMaxScaler()\n",
    "\n",
    "# Columns to be scaled\n",
    "columns = ['pclass', 'sibsp', 'parch', 'embarked', 'fare', 'age', 'sex']\n",
    "\n",
    "# Normalization on the training data\n",
    "train_scaled = pd.DataFrame(scaler.fit_transform(train[columns]), columns=columns)\n",
    "train_scaled['survived'] = train['survived']\n",
    "\n",
    "# Normalization on the test data using the same scaler as used on the training data\n",
    "test_scaled = pd.DataFrame(scaler.transform(test[columns]), columns=columns)\n"
   ]
  },
  {
   "cell_type": "code",
   "execution_count": 19,
   "id": "f9e4bda3",
   "metadata": {
    "execution": {
     "iopub.execute_input": "2023-11-27T08:45:51.349842Z",
     "iopub.status.busy": "2023-11-27T08:45:51.349471Z",
     "iopub.status.idle": "2023-11-27T08:45:51.909005Z",
     "shell.execute_reply": "2023-11-27T08:45:51.908055Z"
    },
    "papermill": {
     "duration": 0.572036,
     "end_time": "2023-11-27T08:45:51.911409",
     "exception": false,
     "start_time": "2023-11-27T08:45:51.339373",
     "status": "completed"
    },
    "tags": []
   },
   "outputs": [
    {
     "data": {
      "image/png": "[encoded data removed]",
      "text/plain": [
       "<Figure size 1000x1000 with 2 Axes>"
      ]
     },
     "metadata": {},
     "output_type": "display_data"
    }
   ],
   "source": [
    "plt.subplots(figsize = (10,10))\n",
    "data = train.loc[:,['survived','pclass', 'sibsp', 'parch', 'embarked', 'fare', 'age', 'sex']]\n",
    "sns.heatmap(data.corr(),\n",
    "            annot=True,\n",
    "            cmap = 'RdBu_r',\n",
    "            linewidths=0.1, \n",
    "            linecolor='white',\n",
    "            square=True)\n",
    "plt.title(\"Correlations Among Features\", y = 1.03,fontsize = 20)\n",
    "plt.show()"
   ]
  },
  {
   "cell_type": "code",
   "execution_count": 20,
   "id": "2893bdbc",
   "metadata": {
    "execution": {
     "iopub.execute_input": "2023-11-27T08:45:51.935505Z",
     "iopub.status.busy": "2023-11-27T08:45:51.934598Z",
     "iopub.status.idle": "2023-11-27T08:45:51.970718Z",
     "shell.execute_reply": "2023-11-27T08:45:51.969480Z"
    },
    "papermill": {
     "duration": 0.051297,
     "end_time": "2023-11-27T08:45:51.973369",
     "exception": false,
     "start_time": "2023-11-27T08:45:51.922072",
     "status": "completed"
    },
    "tags": []
   },
   "outputs": [
    {
     "name": "stdout",
     "output_type": "stream",
     "text": [
      "Decision Tree Model Evaluation:\n",
      "Accuracy: 0.976897689768977\n",
      "Confusion Matrix:\n",
      "[[566   1]\n",
      " [ 20 322]]\n",
      "Classification Report:\n",
      "              precision    recall  f1-score   support\n",
      "\n",
      "           0       0.97      1.00      0.98       567\n",
      "           1       1.00      0.94      0.97       342\n",
      "\n",
      "    accuracy                           0.98       909\n",
      "   macro avg       0.98      0.97      0.98       909\n",
      "weighted avg       0.98      0.98      0.98       909\n",
      "\n"
     ]
    }
   ],
   "source": [
    "from sklearn.tree import DecisionTreeClassifier\n",
    "from sklearn.metrics import accuracy_score, confusion_matrix, classification_report\n",
    "from sklearn.model_selection import train_test_split\n",
    "X_train = train_scaled.drop('survived', axis=1)\n",
    "y_train = train_scaled['survived']\n",
    "# Bangun model Decision Tree\n",
    "dt_model = DecisionTreeClassifier(random_state=42)\n",
    "dt_model.fit(X_train, y_train)\n",
    "\n",
    "# Prediksi pada set pengujian\n",
    "X_test = train_scaled.drop('survived', axis=1)\n",
    "y_test = train_scaled['survived']\n",
    "dt_predictions = dt_model.predict(X_test)\n",
    "\n",
    "# Evaluasi model Decision Tree\n",
    "dt_accuracy = accuracy_score(y_test, dt_predictions)\n",
    "dt_confusion_mat = confusion_matrix(y_test, dt_predictions)\n",
    "dt_classification_rep = classification_report(y_test, dt_predictions)\n",
    "\n",
    "# Tampilkan hasil evaluasi\n",
    "print(\"Decision Tree Model Evaluation:\")\n",
    "print(f'Accuracy: {dt_accuracy}')\n",
    "print(f'Confusion Matrix:\\n{dt_confusion_mat}')\n",
    "print(f'Classification Report:\\n{dt_classification_rep}')\n",
    "\n",
    "# Prediksi pada data uji menggunakan Decision Tree\n",
    "dt_test_predictions = dt_model.predict(test_scaled)\n",
    "\n",
    "# Buat DataFrame untuk menyimpan hasil prediksi Decision Tree\n",
    "dt_result_df = pd.DataFrame({\n",
    "    'ID': test['ID'],\n",
    "    'Predicted': dt_test_predictions\n",
    "})\n",
    "\n",
    "# Export DataFrame ke file CSV\n",
    "dt_result_df.to_csv('predicted_results_dt.csv', index=False)\n"
   ]
  },
  {
   "cell_type": "code",
   "execution_count": 21,
   "id": "2fe3886a",
   "metadata": {
    "execution": {
     "iopub.execute_input": "2023-11-27T08:45:51.997320Z",
     "iopub.status.busy": "2023-11-27T08:45:51.996887Z",
     "iopub.status.idle": "2023-11-27T08:45:52.322929Z",
     "shell.execute_reply": "2023-11-27T08:45:52.321467Z"
    },
    "papermill": {
     "duration": 0.341748,
     "end_time": "2023-11-27T08:45:52.325474",
     "exception": false,
     "start_time": "2023-11-27T08:45:51.983726",
     "status": "completed"
    },
    "tags": []
   },
   "outputs": [
    {
     "name": "stdout",
     "output_type": "stream",
     "text": [
      "Random Forest Model Evaluation:\n",
      "Accuracy: 0.8131868131868132\n",
      "Confusion Matrix:\n",
      "[[104  13]\n",
      " [ 21  44]]\n",
      "Classification Report:\n",
      "              precision    recall  f1-score   support\n",
      "\n",
      "           0       0.83      0.89      0.86       117\n",
      "           1       0.77      0.68      0.72        65\n",
      "\n",
      "    accuracy                           0.81       182\n",
      "   macro avg       0.80      0.78      0.79       182\n",
      "weighted avg       0.81      0.81      0.81       182\n",
      "\n"
     ]
    }
   ],
   "source": [
    "from sklearn.metrics import accuracy_score, confusion_matrix, classification_report\n",
    "from sklearn.model_selection import train_test_split\n",
    "from sklearn.ensemble import RandomForestClassifier\n",
    "\n",
    "# Pisahkan fitur dan label pada data pelatihan yang sudah dinormalisasi\n",
    "features = train_scaled.drop('survived', axis=1)\n",
    "labels = train_scaled['survived']\n",
    "\n",
    "# Pisahkan data pelatihan menjadi set pelatihan dan pengujian\n",
    "X_train, X_test, y_train, y_test = train_test_split(features, labels, test_size=0.2, random_state=42)\n",
    "\n",
    "# Bangun model Random Forest\n",
    "rf_model = RandomForestClassifier(random_state=42)\n",
    "rf_model.fit(X_train, y_train)\n",
    "\n",
    "# Prediksi pada set pengujian\n",
    "rf_predictions = rf_model.predict(X_test)\n",
    "\n",
    "# Evaluasi model Random Forest\n",
    "rf_accuracy = accuracy_score(y_test, rf_predictions)\n",
    "rf_confusion_mat = confusion_matrix(y_test, rf_predictions)\n",
    "rf_classification_rep = classification_report(y_test, rf_predictions)\n",
    "\n",
    "# Tampilkan hasil evaluasi\n",
    "print(\"Random Forest Model Evaluation:\")\n",
    "print(f'Accuracy: {rf_accuracy}')\n",
    "print(f'Confusion Matrix:\\n{rf_confusion_mat}')\n",
    "print(f'Classification Report:\\n{rf_classification_rep}')\n",
    "\n",
    "# Prediksi pada data uji menggunakan Random Forest\n",
    "rf_test_predictions = rf_model.predict(test_scaled)\n",
    "\n",
    "# Buat DataFrame untuk menyimpan hasil prediksi Random Forest\n",
    "rf_result_df = pd.DataFrame({\n",
    "    'ID': test['ID'],\n",
    "    'Predicted': rf_test_predictions\n",
    "})\n",
    "\n",
    "# Export DataFrame ke file CSV\n",
    "rf_result_df.to_csv('predicted_results_rf.csv', index=False)\n"
   ]
  },
  {
   "cell_type": "code",
   "execution_count": 22,
   "id": "34e8cfe2",
   "metadata": {
    "execution": {
     "iopub.execute_input": "2023-11-27T08:45:52.348489Z",
     "iopub.status.busy": "2023-11-27T08:45:52.348073Z",
     "iopub.status.idle": "2023-11-27T08:45:52.404017Z",
     "shell.execute_reply": "2023-11-27T08:45:52.402395Z"
    },
    "papermill": {
     "duration": 0.070734,
     "end_time": "2023-11-27T08:45:52.406607",
     "exception": false,
     "start_time": "2023-11-27T08:45:52.335873",
     "status": "completed"
    },
    "tags": []
   },
   "outputs": [
    {
     "name": "stdout",
     "output_type": "stream",
     "text": [
      "SVM Model Evaluation:\n",
      "Accuracy: 0.8406593406593407\n",
      "Confusion Matrix:\n",
      "[[113   4]\n",
      " [ 25  40]]\n",
      "Classification Report:\n",
      "              precision    recall  f1-score   support\n",
      "\n",
      "           0       0.82      0.97      0.89       117\n",
      "           1       0.91      0.62      0.73        65\n",
      "\n",
      "    accuracy                           0.84       182\n",
      "   macro avg       0.86      0.79      0.81       182\n",
      "weighted avg       0.85      0.84      0.83       182\n",
      "\n"
     ]
    }
   ],
   "source": [
    "from sklearn.svm import SVC\n",
    "features = train_scaled.drop('survived', axis=1)\n",
    "labels = train_scaled['survived']\n",
    "# Pisahkan data pelatihan menjadi set pelatihan dan pengujian\n",
    "X_train, X_test, y_train, y_test = train_test_split(features, labels, test_size=0.2, random_state=42)\n",
    "\n",
    "# Bangun model Support Vector Machine (SVM)\n",
    "svm_model = SVC(random_state=42)\n",
    "svm_model.fit(X_train, y_train)\n",
    "\n",
    "# Prediksi pada set pengujian\n",
    "svm_predictions = svm_model.predict(X_test)\n",
    "\n",
    "# Evaluasi model SVM\n",
    "svm_accuracy = accuracy_score(y_test, svm_predictions)\n",
    "svm_confusion_mat = confusion_matrix(y_test, svm_predictions)\n",
    "svm_classification_rep = classification_report(y_test, svm_predictions)\n",
    "\n",
    "# Tampilkan hasil evaluasi\n",
    "print(\"SVM Model Evaluation:\")\n",
    "print(f'Accuracy: {svm_accuracy}')\n",
    "print(f'Confusion Matrix:\\n{svm_confusion_mat}')\n",
    "print(f'Classification Report:\\n{svm_classification_rep}')\n",
    "\n",
    "# Prediksi pada data uji menggunakan SVM\n",
    "svm_test_predictions = svm_model.predict(test_scaled)\n",
    "\n",
    "# Buat DataFrame untuk menyimpan hasil prediksi SVM\n",
    "svm_result_df = pd.DataFrame({\n",
    "    'ID': test['ID'],\n",
    "    'survived': svm_test_predictions\n",
    "})\n",
    "\n",
    "# Export DataFrame ke file CSV\n",
    "svm_result_df.to_csv('predicted_results_svm.csv', index=False)"
   ]
  },
  {
   "cell_type": "code",
   "execution_count": 23,
   "id": "22389cff",
   "metadata": {
    "execution": {
     "iopub.execute_input": "2023-11-27T08:45:52.430174Z",
     "iopub.status.busy": "2023-11-27T08:45:52.429288Z",
     "iopub.status.idle": "2023-11-27T08:45:52.496169Z",
     "shell.execute_reply": "2023-11-27T08:45:52.494557Z"
    },
    "papermill": {
     "duration": 0.081371,
     "end_time": "2023-11-27T08:45:52.498724",
     "exception": false,
     "start_time": "2023-11-27T08:45:52.417353",
     "status": "completed"
    },
    "tags": []
   },
   "outputs": [
    {
     "name": "stdout",
     "output_type": "stream",
     "text": [
      "KNN Model Evaluation:\n",
      "Accuracy: 0.8186813186813187\n",
      "Confusion Matrix:\n",
      "[[104  13]\n",
      " [ 20  45]]\n",
      "Classification Report:\n",
      "              precision    recall  f1-score   support\n",
      "\n",
      "           0       0.84      0.89      0.86       117\n",
      "           1       0.78      0.69      0.73        65\n",
      "\n",
      "    accuracy                           0.82       182\n",
      "   macro avg       0.81      0.79      0.80       182\n",
      "weighted avg       0.82      0.82      0.82       182\n",
      "\n"
     ]
    }
   ],
   "source": [
    "from sklearn.neighbors import KNeighborsClassifier\n",
    "\n",
    "# Pisahkan data pelatihan menjadi set pelatihan dan pengujian\n",
    "X_train, X_test, y_train, y_test = train_test_split(features, labels, test_size=0.2, random_state=42)\n",
    "\n",
    "# Bangun model K-Nearest Neighbors (KNN)\n",
    "knn_model = KNeighborsClassifier()\n",
    "knn_model.fit(X_train, y_train)\n",
    "\n",
    "# Prediksi pada set pengujian\n",
    "knn_predictions = knn_model.predict(X_test)\n",
    "\n",
    "# Evaluasi model KNN\n",
    "knn_accuracy = accuracy_score(y_test, knn_predictions)\n",
    "knn_confusion_mat = confusion_matrix(y_test, knn_predictions)\n",
    "knn_classification_rep = classification_report(y_test, knn_predictions)\n",
    "\n",
    "# Tampilkan hasil evaluasi\n",
    "print(\"KNN Model Evaluation:\")\n",
    "print(f'Accuracy: {knn_accuracy}')\n",
    "print(f'Confusion Matrix:\\n{knn_confusion_mat}')\n",
    "print(f'Classification Report:\\n{knn_classification_rep}')\n",
    "\n",
    "# Prediksi pada data uji menggunakan KNN\n",
    "knn_test_predictions = knn_model.predict(test_scaled)\n",
    "\n",
    "# Buat DataFrame untuk menyimpan hasil prediksi KNN\n",
    "knn_result_df = pd.DataFrame({\n",
    "    'ID': test['ID'],\n",
    "    'survived': knn_test_predictions\n",
    "})\n",
    "\n",
    "# Export DataFrame ke file CSV\n",
    "knn_result_df.to_csv('predicted_results_knn.csv', index=False)\n"
   ]
  }
 ],
 "metadata": {
  "kaggle": {
   "accelerator": "none",
   "dataSources": [
    {
     "databundleVersionId": 7150057,
     "sourceId": 64776,
     "sourceType": "competition"
    }
   ],
   "dockerImageVersionId": 30587,
   "isGpuEnabled": false,
   "isInternetEnabled": true,
   "language": "python",
   "sourceType": "notebook"
  },
  "kernelspec": {
   "display_name": "Python 3",
   "language": "python",
   "name": "python3"
  },
  "language_info": {
   "codemirror_mode": {
    "name": "ipython",
    "version": 3
   },
   "file_extension": ".py",
   "mimetype": "text/x-python",
   "name": "python",
   "nbconvert_exporter": "python",
   "pygments_lexer": "ipython3",
   "version": "3.10.12"
  },
  "papermill": {
   "default_parameters": {},
   "duration": 24.088711,
   "end_time": "2023-11-27T08:45:53.231604",
   "environment_variables": {},
   "exception": null,
   "input_path": "__notebook__.ipynb",
   "output_path": "__notebook__.ipynb",
   "parameters": {},
   "start_time": "2023-11-27T08:45:29.142893",
   "version": "2.4.0"
  }
 },
 "nbformat": 4,
 "nbformat_minor": 5
}
